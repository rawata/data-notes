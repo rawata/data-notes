{
 "cells": [
  {
   "cell_type": "markdown",
   "metadata": {},
   "source": [
    "# Generating arbitrary data\n",
    "\n",
    "First thing that one need while experimenting with linear algebra library is having data of arbitrary shape, following octave methods are helpful in generating data to play with.\n",
    "* `[ ]`\n",
    "* `eye`\n",
    "* `zeros` `ones`\n",
    "* `ranges `\n",
    "* `linspace`\n",
    "* `magic`\n",
    "\n",
    "For generating random data use\n",
    "\n",
    "* `rand`"
   ]
  },
  {
   "cell_type": "code",
   "execution_count": 26,
   "metadata": {},
   "outputs": [
    {
     "name": "stdout",
     "output_type": "stream",
     "text": [
      "x =\n",
      "\n",
      "   1   2   3\n",
      "\n",
      "x =\n",
      "\n",
      "   1\n",
      "   2\n",
      "   3\n",
      "\n",
      "x =\n",
      "\n",
      "   1   2\n",
      "   4   5\n",
      "   7   8\n",
      "\n",
      "x =\n",
      "\n",
      "   0   0   0   0\n",
      "   0   0   0   0\n",
      "   0   0   0   0\n",
      "   0   0   0   0\n",
      "\n",
      "x =\n",
      "\n",
      "    1    2    3    4    5    6    7    8    9   10\n",
      "    1    2    3    4    5    6    7    8    9   10\n",
      "\n",
      "x =\n",
      "\n",
      "    2    4    6    8   10\n",
      "\n",
      "x =\n",
      "\n",
      "   0.144838   0.997498   0.096283\n",
      "   0.626361   0.676938   0.905862\n",
      "\n",
      "x =\n",
      "\n",
      "Diagonal Matrix\n",
      "\n",
      "   1   0   0\n",
      "   0   1   0\n",
      "   0   0   1\n",
      "\n",
      "x =\n",
      "\n",
      "   8   1   6\n",
      "   3   5   7\n",
      "   4   9   2\n",
      "\n"
     ]
    }
   ],
   "source": [
    "#Generating from constants\n",
    "x = [1,2,3] # A Row vector\n",
    "x = [1; 2; 3] # A Column vector, rows are separated by semicolons\n",
    "\n",
    "x = zeros(4)\n",
    "\n",
    "#Generating from a range start, stop, step=1\n",
    "x = [1:10; 1:10]\n",
    "x = [1,2;4,5;7,8]\n",
    "\n",
    "#Generates evenly spaced specifed number of data points between 2 endpoints\n",
    "a = 2; b = 10; n = 5; \n",
    "x = linspace(a,b,n) #creates n datapoints between a and b inclusive\n",
    "\n",
    "#Generates a 3X3 magic matrix i.e one whole rows, columns and diagonals add up to same number\n",
    "x = magic(3) \n",
    "\n",
    "#Generate random data of given shape\n",
    "x = rand(2,3)\n",
    "\n",
    "x = eye(3) #generates identity matrix\n"
   ]
  },
  {
   "cell_type": "markdown",
   "metadata": {
    "collapsed": true
   },
   "source": [
    "# Dimensions\n",
    "what *types* are for a general programming, *dimensions* are for numerical programming. Getting them right goes a long way in having a bug free program\n",
    "\n",
    "In Octave\n",
    "\n",
    "use `size` to know the dimensions\n",
    "\n",
    "use `reshape` to modify the dimensions. \n",
    "\n"
   ]
  },
  {
   "cell_type": "code",
   "execution_count": 25,
   "metadata": {},
   "outputs": [
    {
     "name": "stdout",
     "output_type": "stream",
     "text": [
      "ans =\n",
      "\n",
      "   6   3\n",
      "\n",
      "x2 =\n",
      "\n",
      "   1   1   1   1   1   1\n",
      "   1   1   1   1   1   1\n",
      "   1   1   1   1   1   1\n",
      "   1   1   1   1   1   1\n",
      "\n",
      "x2_again =\n",
      "\n",
      "   1   1   1   1   1   1\n",
      "   1   1   1   1   1   1\n",
      "   1   1   1   1   1   1\n",
      "   1   1   1   1   1   1\n",
      "\n"
     ]
    }
   ],
   "source": [
    "size(eye(6,3))\n",
    "x1 = zeros(5,3); #putting ; after statement stops the result being printed\n",
    "x2 = ones(4,6)\n",
    "x = [x1(:);x2(:)]; #put them in one big vector\n",
    "\n",
    "#To get x2 from x\n",
    "x2_again = reshape(x(16:39), 4,6)\n"
   ]
  },
  {
   "cell_type": "markdown",
   "metadata": {},
   "source": [
    "# Transpose"
   ]
  },
  {
   "cell_type": "code",
   "execution_count": 18,
   "metadata": {},
   "outputs": [
    {
     "name": "stdout",
     "output_type": "stream",
     "text": [
      "x =\n",
      "\n",
      "   16    2    3   13\n",
      "    5   11   10    8\n",
      "    9    7    6   12\n",
      "    4   14   15    1\n",
      "\n",
      "ans =\n",
      "\n",
      "   16    5    9    4\n",
      "    2   11    7   14\n",
      "    3   10    6   15\n",
      "   13    8   12    1\n",
      "\n",
      "ans =\n",
      "\n",
      "   16    5    9    4\n",
      "    2   11    7   14\n",
      "    3   10    6   15\n",
      "   13    8   12    1\n",
      "\n"
     ]
    }
   ],
   "source": [
    "x = magic(4) \n",
    "x' # transpose\n",
    "transpose(x)"
   ]
  },
  {
   "cell_type": "markdown",
   "metadata": {},
   "source": [
    "# Dot Product"
   ]
  },
  {
   "cell_type": "code",
   "execution_count": 54,
   "metadata": {},
   "outputs": [
    {
     "name": "stdout",
     "output_type": "stream",
     "text": [
      "x =\n",
      "\n",
      "   8   1   6\n",
      "   3   5   7\n",
      "   4   9   2\n",
      "\n",
      "r =\n",
      "\n",
      "Diagonal Matrix\n",
      "\n",
      "   1   0   0\n",
      "   0   1   0\n",
      "   0   0   1\n",
      "\n"
     ]
    }
   ],
   "source": [
    "\n",
    "x = magic(3)\n",
    "r = eye(3)\n"
   ]
  },
  {
   "cell_type": "markdown",
   "metadata": {},
   "source": [
    "# Sum"
   ]
  },
  {
   "cell_type": "code",
   "execution_count": 66,
   "metadata": {},
   "outputs": [
    {
     "name": "stdout",
     "output_type": "stream",
     "text": [
      "6\n",
      "[[ 0.  0.  0.  0.]\n",
      " [ 0.  0.  0.  0.]\n",
      " [ 0.  0.  0.  0.]]\n"
     ]
    },
    {
     "data": {
      "text/plain": [
       "array([[ 1.,  1.,  1.],\n",
       "       [ 1.,  1.,  1.],\n",
       "       [ 1.,  1.,  1.],\n",
       "       [ 1.,  1.,  1.]])"
      ]
     },
     "execution_count": 66,
     "metadata": {},
     "output_type": "execute_result"
    }
   ],
   "source": [
    "A = np.array([1,2,3])\n",
    "s = np.sum(A)\n",
    "print(s)\n",
    "a = np.zeros((3,4))\n",
    "print(a)\n",
    "b = np.ones((4,1))\n",
    "a.transpose()+b"
   ]
  },
  {
   "cell_type": "markdown",
   "metadata": {},
   "source": [
    "# Multiply"
   ]
  },
  {
   "cell_type": "code",
   "execution_count": 53,
   "metadata": {},
   "outputs": [
    {
     "data": {
      "text/plain": [
       "array([[ 0.,  0.,  0.,  0.,  0.,  0.,  0.],\n",
       "       [ 0.,  0.,  0.,  0.,  0.,  0.,  0.],\n",
       "       [ 0.,  0.,  0.,  0.,  0.,  0.,  0.],\n",
       "       [ 0.,  0.,  0.,  0.,  0.,  0.,  0.],\n",
       "       [ 0.,  0.,  0.,  0.,  0.,  0.,  0.]])"
      ]
     },
     "execution_count": 53,
     "metadata": {},
     "output_type": "execute_result"
    }
   ],
   "source": [
    "w = np.zeros((5,1))\n",
    "x = np.zeros((5, 7))\n",
    "np.multiply(w, x)"
   ]
  },
  {
   "cell_type": "code",
   "execution_count": 69,
   "metadata": {},
   "outputs": [
    {
     "data": {
      "text/plain": [
       "array([ 0.76159416,  0.76159416,  0.76159416])"
      ]
     },
     "execution_count": 69,
     "metadata": {},
     "output_type": "execute_result"
    }
   ],
   "source": [
    "w = np.array([1,1,1])\n",
    "np.tanh(w)\n",
    "w"
   ]
  },
  {
   "cell_type": "code",
   "execution_count": null,
   "metadata": {
    "collapsed": true
   },
   "outputs": [],
   "source": []
  }
 ],
 "metadata": {
  "anaconda-cloud": {},
  "kernelspec": {
   "display_name": "Octave",
   "language": "octave",
   "name": "octave"
  },
  "language_info": {
   "file_extension": ".m",
   "help_links": [
    {
     "text": "GNU Octave",
     "url": "https://www.gnu.org/software/octave/support.html"
    },
    {
     "text": "Octave Kernel",
     "url": "https://github.com/Calysto/octave_kernel"
    },
    {
     "text": "MetaKernel Magics",
     "url": "https://github.com/calysto/metakernel/blob/master/metakernel/magics/README.md"
    }
   ],
   "mimetype": "text/x-octave",
   "name": "octave",
   "version": "4.2.1"
  }
 },
 "nbformat": 4,
 "nbformat_minor": 1
}
